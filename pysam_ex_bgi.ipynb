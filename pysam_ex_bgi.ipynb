{
  "nbformat": 4,
  "nbformat_minor": 0,
  "metadata": {
    "colab": {
      "provenance": [],
      "authorship_tag": "ABX9TyNz5c/dNJAeR4ThVDpVPPcR",
      "include_colab_link": true
    },
    "kernelspec": {
      "name": "python3",
      "display_name": "Python 3"
    },
    "language_info": {
      "name": "python"
    }
  },
  "cells": [
    {
      "cell_type": "markdown",
      "metadata": {
        "id": "view-in-github",
        "colab_type": "text"
      },
      "source": [
        "<a href=\"https://colab.research.google.com/github/jovanakalamkovic99/Onboarding/blob/main/pysam_ex_bgi.ipynb\" target=\"_parent\"><img src=\"https://colab.research.google.com/assets/colab-badge.svg\" alt=\"Open In Colab\"/></a>"
      ]
    },
    {
      "cell_type": "code",
      "execution_count": null,
      "metadata": {
        "colab": {
          "base_uri": "https://localhost:8080/"
        },
        "id": "L8uYZwttEbAU",
        "outputId": "38ed5dd5-9a9b-4090-d4b1-98d20c146211"
      },
      "outputs": [
        {
          "output_type": "stream",
          "name": "stdout",
          "text": [
            "Looking in indexes: https://pypi.org/simple, https://us-python.pkg.dev/colab-wheels/public/simple/\n",
            "Requirement already satisfied: pysam in /usr/local/lib/python3.9/dist-packages (0.20.0)\n"
          ]
        }
      ],
      "source": [
        "pip install pysam"
      ]
    },
    {
      "cell_type": "code",
      "source": [
        "# Code to read csv file into Colaboratory:\n",
        "!pip install -U -q PyDrive\n",
        "from pydrive.auth import GoogleAuth\n",
        "from pydrive.drive import GoogleDrive\n",
        "from google.colab import auth\n",
        "from oauth2client.client import GoogleCredentials\n",
        "# Authenticate and create the PyDrive client.\n",
        "auth.authenticate_user()\n",
        "gauth = GoogleAuth()\n",
        "gauth.credentials = GoogleCredentials.get_application_default()\n",
        "drive = GoogleDrive(gauth)"
      ],
      "metadata": {
        "id": "1omFO5BBOH6C"
      },
      "execution_count": null,
      "outputs": []
    },
    {
      "cell_type": "code",
      "source": [
        "link = 'https://drive.google.com/file/d/1Mu5FfWOMir9hGEdz1ySCkbUJDNuPgkMG/view?usp=share_linkk'"
      ],
      "metadata": {
        "id": "Hj_M60r9OcAY"
      },
      "execution_count": null,
      "outputs": []
    },
    {
      "cell_type": "code",
      "source": [
        "id = \"1Mu5FfWOMir9hGEdz1ySCkbUJDNuPgkMG\""
      ],
      "metadata": {
        "id": "jpGciANwQPMw"
      },
      "execution_count": null,
      "outputs": []
    },
    {
      "cell_type": "code",
      "source": [
        "link_bai = 'https://drive.google.com/file/d/1cTxALsVVrAajPBPQ1AyWdHfNGBGoiRX-/view?usp=share_link'"
      ],
      "metadata": {
        "id": "4eH0W5Z72Gaw"
      },
      "execution_count": null,
      "outputs": []
    },
    {
      "cell_type": "code",
      "source": [
        "id_bai = \"1cTxALsVVrAajPBPQ1AyWdHfNGBGoiRX-\""
      ],
      "metadata": {
        "id": "7JyALFcE2K2_"
      },
      "execution_count": null,
      "outputs": []
    },
    {
      "cell_type": "code",
      "source": [
        "import pysam\n",
        "downloaded = drive.CreateFile({'id':id}) \n",
        "downloaded.GetContentFile('merged-normal.bam')  \n",
        "samfile = pysam.AlignmentFile(\"merged-normal.bam\", \"rb\")"
      ],
      "metadata": {
        "id": "yEiJJummOg43"
      },
      "execution_count": null,
      "outputs": []
    },
    {
      "cell_type": "code",
      "source": [
        "downloaded_bai = drive.CreateFile({'id':id_bai}) \n",
        "downloaded_bai.GetContentFile('merged-normal.bam.bai')  "
      ],
      "metadata": {
        "id": "KULfK7Fe2PHH"
      },
      "execution_count": null,
      "outputs": []
    },
    {
      "cell_type": "code",
      "source": [
        "for read in samfile.fetch('1', 100, 120):\n",
        "    print(read)\n",
        "\n",
        "#samfile.close()"
      ],
      "metadata": {
        "id": "Tu0tAOZPKGH_"
      },
      "execution_count": null,
      "outputs": []
    },
    {
      "cell_type": "code",
      "source": [
        "# get the first read from the AlignmentFile\n",
        "read = next(samfile)"
      ],
      "metadata": {
        "id": "23to-Ycx61-x"
      },
      "execution_count": null,
      "outputs": []
    },
    {
      "cell_type": "code",
      "source": [
        "# inspect the fields in the AlignedSegment\n",
        "print(read.query_name)\n",
        "print(read.query_sequence)\n",
        "print(read.reference_id)\n",
        "print(read.reference_start)\n",
        "print(read.cigarstring)\n",
        "print(read.mapping_quality)\n",
        "print(read.flag)\n",
        "print(read.is_reverse)\n",
        "print(read.is_paired)"
      ],
      "metadata": {
        "colab": {
          "base_uri": "https://localhost:8080/"
        },
        "id": "Rq0IajJ864If",
        "outputId": "33bbd7e2-4f39-4eb5-ba2d-c857ea4d78f9"
      },
      "execution_count": null,
      "outputs": [
        {
          "output_type": "stream",
          "name": "stdout",
          "text": [
            "D0MBKACXX120224:2:2206:17237:35667\n",
            "CTTTTCAAACAGTATCTATGCCTGCCAAATGTGAACATATAAAAAAAAACCAGAATGTGCCATTCTGATTTAAACT\n",
            "20\n",
            "9483247\n",
            "76M\n",
            "27\n",
            "99\n",
            "False\n",
            "True\n"
          ]
        }
      ]
    },
    {
      "cell_type": "code",
      "source": [
        "# inspect the flag field\n",
        "print(bin(read.flag))"
      ],
      "metadata": {
        "colab": {
          "base_uri": "https://localhost:8080/"
        },
        "id": "xzLSkALv6-To",
        "outputId": "27fd0fcc-c4a5-48ae-8a96-491e4341c23a"
      },
      "execution_count": null,
      "outputs": [
        {
          "output_type": "stream",
          "name": "stdout",
          "text": [
            "0b1100011\n"
          ]
        }
      ]
    },
    {
      "cell_type": "code",
      "source": [
        "for i in range(10):\n",
        "    read = next(samfile)\n",
        "    print(read.flag)"
      ],
      "metadata": {
        "colab": {
          "base_uri": "https://localhost:8080/"
        },
        "id": "pBZQFd4e7Llg",
        "outputId": "b485ee2c-9f9a-4de4-cd21-af54183a3ccf"
      },
      "execution_count": null,
      "outputs": [
        {
          "output_type": "stream",
          "name": "stdout",
          "text": [
            "99\n",
            "163\n",
            "99\n",
            "163\n",
            "99\n",
            "113\n",
            "99\n",
            "163\n",
            "163\n",
            "161\n"
          ]
        }
      ]
    },
    {
      "cell_type": "code",
      "source": [
        "# initialize variables for the metrics\n",
        "num_unmapped = 0\n",
        "num_reads = 0\n",
        "num_mapq_zero = 0\n",
        "total_mapq = 0\n",
        "num_mapq_nonzero = 0\n",
        "\n",
        "# iterate through all the reads in the file\n",
        "for read in samfile:\n",
        "    num_reads += 1\n",
        "    if read.is_unmapped:\n",
        "        num_unmapped += 1\n",
        "    if read.mapping_quality == 0:\n",
        "        num_mapq_zero += 1\n",
        "    else:\n",
        "        total_mapq += read.mapping_quality\n",
        "        num_mapq_nonzero += 1\n",
        "\n",
        "# calculate the metrics\n",
        "avg_mapq_all = total_mapq / num_reads\n",
        "avg_mapq_nonzero = total_mapq / num_mapq_nonzero\n",
        "\n",
        "# print the results\n",
        "print(\"Number of unmapped reads:\", num_unmapped)\n",
        "print(\"Total number of reads:\", num_reads)\n",
        "print(\"Number of reads with mapping quality 0:\", num_mapq_zero)\n",
        "print(\"Average mapping quality for all the reads:\", avg_mapq_all)\n",
        "print(\"Average mapping quality if reads with 0 mapq are filtered out:\", avg_mapq_nonzero)\n",
        "\n",
        "# close the AlignmentFile object\n",
        "samfile.close()"
      ],
      "metadata": {
        "colab": {
          "base_uri": "https://localhost:8080/"
        },
        "id": "UwEoJ8z27OEZ",
        "outputId": "1768e676-1ea0-49cc-ddc3-4603ec140e27"
      },
      "execution_count": null,
      "outputs": [
        {
          "output_type": "stream",
          "name": "stdout",
          "text": [
            "Number of unmapped reads: 12290\n",
            "Total number of reads: 1717390\n",
            "Number of reads with mapping quality 0: 79435\n",
            "Average mapping quality for all the reads: 55.85445705401801\n",
            "Average mapping quality if reads with 0 mapq are filtered out: 58.56319984370755\n"
          ]
        }
      ]
    }
  ]
}